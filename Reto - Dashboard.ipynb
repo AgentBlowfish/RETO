{
 "cells": [
  {
   "cell_type": "code",
   "execution_count": 2,
   "id": "f26e6a08-f71b-4ad5-aade-f5b6bf1a1cb0",
   "metadata": {},
   "outputs": [],
   "source": [
    "from dash import Dash, html, dcc, Input, Output  # pip install dash\n",
    "import dash_bootstrap_components as dbc\n",
    "import pandas as pd\n",
    "import numpy as np\n",
    "\n",
    "import altair as alt                        # pip install altair\n",
    "\n",
    "import matplotlib.pyplot as plt             # pip install matplotlib\n",
    "import mpld3                                # pip install mpld3\n",
    "\n",
    "from bokeh.plotting import figure           # pip install Bokeh\n",
    "from bokeh.resources import CDN\n",
    "from bokeh.embed import file_html\n",
    "from bokeh.models import ColumnDataSource\n",
    "\n",
    "# bring data into app\n",
    "casetas = pd.read_excel('Casetas TDR.xlsx')\n",
    "tlvia = pd.read_excel('Compilado televía 2.xlsx')\n",
    "\n",
    "tlcount = tlvia[['TAG', 'Importe']].groupby('TAG').count()\n",
    "cascount = casetas[['TAG', 'Costo Caseta']].groupby('TAG').count()\n",
    "tlsum = tlvia[['TAG', 'Importe']].groupby('TAG').sum()\n",
    "cassum = casetas[['TAG', 'Costo Caseta']].groupby('TAG').sum()\n",
    "diffcount =  pd.DataFrame(tlcount['Importe'] - cascount['Costo Caseta'])\n",
    "diffsum = pd.DataFrame(tlsum['Importe'] - cassum['Costo Caseta'])\n",
    "diffsum = diffsum[diffsum != 0]\n",
    "diffcount = diffcount[diffcount != 0]\n",
    "diff = pd.merge(diffcount, diffsum, left_index=True, right_index=True)\n",
    "diff.rename(columns = {'0_x':'Dif. Casetas pagadas', '0_y':'Dif. Total pagado'}, inplace = True)\n",
    "tlvia.set_index('TAG', inplace=True)\n",
    "diff2 = pd.merge(diff, tlvia, left_index=True, right_index=True)\n",
    "diff2 = diff2[['#Unidad', 'Dif. Casetas pagadas', 'Dif. Total pagado']].dropna()\n",
    "diff2.drop_duplicates(inplace=True)\n",
    "diff2['#Unidad'] = diff2['#Unidad'].astype(str)\n",
    "diff2.set_index('#Unidad', inplace=True)"
   ]
  },
  {
   "cell_type": "code",
   "execution_count": 3,
   "id": "1c57dc74-bece-4818-a0ce-3d406e45c5f9",
   "metadata": {},
   "outputs": [
    {
     "data": {
      "text/html": [
       "\n",
       "        <iframe\n",
       "            width=\"100%\"\n",
       "            height=\"650\"\n",
       "            src=\"http://127.0.0.1:8004/\"\n",
       "            frameborder=\"0\"\n",
       "            allowfullscreen\n",
       "            \n",
       "        ></iframe>\n",
       "        "
      ],
      "text/plain": [
       "<IPython.lib.display.IFrame at 0x1d7a78c0e50>"
      ]
     },
     "metadata": {},
     "output_type": "display_data"
    }
   ],
   "source": [
    "import plotly.express as px\n",
    "\n",
    "# Set up Dash app\n",
    "app = Dash(__name__, external_stylesheets=[dbc.themes.BOOTSTRAP])\n",
    "\n",
    "# Funciones y cosas\n",
    "ddown = dcc.Dropdown(id='mydropdown',\n",
    "        value=['Dif. Total pagado'],\n",
    "        options=[{'label': i, 'value': i} for i in ['Dif. Casetas pagadas', 'Dif. Total pagado']])\n",
    "\n",
    "graph0 = dcc.Graph(id=\"Barras\")  \n",
    "\n",
    "# Set up the page layout\n",
    "app.layout = html.Div([ddown, graph0])\n",
    "\n",
    "@app.callback(\n",
    "    Output('Barras', 'figure'),\n",
    "    Input('mydropdown', 'value'))\n",
    "\n",
    "def bar_chart(spending):\n",
    "    fig = px.bar(\n",
    "        diff2,\n",
    "        x=diff2.index,\n",
    "        y=spending,\n",
    "        barmode=\"group\",\n",
    "        title=\"Diferencia en casetas por unidad\",\n",
    "    )\n",
    "    return fig\n",
    "\n",
    "if __name__ == '__main__':\n",
    "    app.run_server(debug=True, port='8004')\n"
   ]
  },
  {
   "cell_type": "code",
   "execution_count": 48,
   "id": "93f23cad",
   "metadata": {},
   "outputs": [
    {
     "data": {
      "text/html": [
       "\n",
       "        <iframe\n",
       "            width=\"100%\"\n",
       "            height=\"650\"\n",
       "            src=\"http://127.0.0.1:8050/\"\n",
       "            frameborder=\"0\"\n",
       "            allowfullscreen\n",
       "            \n",
       "        ></iframe>\n",
       "        "
      ],
      "text/plain": [
       "<IPython.lib.display.IFrame at 0x1d7b0859f50>"
      ]
     },
     "metadata": {},
     "output_type": "display_data"
    }
   ],
   "source": [
    "# Set up Dash app\n",
    "app = Dash(__name__, external_stylesheets=[dbc.themes.BOOTSTRAP])\n",
    "\n",
    "graph1 = dcc.Graph(figure = px.pie(diff2, values='Dif. Total pagado', names=diff2.index, title='Distribucion de diferencias en total pagado en Televia vs contabilidad - Enero'))\n",
    "\n",
    "# Set up the page layout\n",
    "app.layout = html.Div([graph1]) \n",
    "\n",
    "if __name__ == '__main__':\n",
    "    app.run_server(debug=True, port='8050')"
   ]
  },
  {
   "cell_type": "code",
   "execution_count": null,
   "id": "6f31db7b",
   "metadata": {},
   "outputs": [],
   "source": [
    "# Datos diarios de pagos de casetas por unidad\n",
    "\n",
    "tlvia1 = tlvia\n",
    "\n",
    "# Primero simplifico el formato de fecha para que exista una version sin la hora especifica\n",
    "\n",
    "tlvia1['Fecha'] = pd.to_datetime(tlvia1[\"Fecha\"].dt.strftime('%Y-%m-%d'))\n",
    "\n",
    "# Procedo a agrupar por unidad y fecha, para hacer una suma de pagos de casetas por dia\n",
    "\n",
    "tlvia1[['#Unidad', 'Fecha', 'Importe']].groupby(['Fecha', '#Unidad']).sum()"
   ]
  },
  {
   "cell_type": "code",
   "execution_count": 49,
   "id": "09690153",
   "metadata": {},
   "outputs": [
    {
     "data": {
      "text/html": [
       "\n",
       "        <iframe\n",
       "            width=\"100%\"\n",
       "            height=\"650\"\n",
       "            src=\"http://127.0.0.1:8050/\"\n",
       "            frameborder=\"0\"\n",
       "            allowfullscreen\n",
       "            \n",
       "        ></iframe>\n",
       "        "
      ],
      "text/plain": [
       "<IPython.lib.display.IFrame at 0x1d7b088fd90>"
      ]
     },
     "metadata": {},
     "output_type": "display_data"
    },
    {
     "name": "stderr",
     "output_type": "stream",
     "text": [
      "c:\\Users\\gpcor\\anaconda3\\Lib\\site-packages\\_plotly_utils\\basevalidators.py:106: FutureWarning:\n",
      "\n",
      "The behavior of DatetimeProperties.to_pydatetime is deprecated, in a future version this will return a Series containing python datetime objects instead of an ndarray. To retain the old behavior, call `np.array` on the result\n",
      "\n",
      "c:\\Users\\gpcor\\anaconda3\\Lib\\site-packages\\_plotly_utils\\basevalidators.py:106: FutureWarning:\n",
      "\n",
      "The behavior of DatetimeProperties.to_pydatetime is deprecated, in a future version this will return a Series containing python datetime objects instead of an ndarray. To retain the old behavior, call `np.array` on the result\n",
      "\n",
      "c:\\Users\\gpcor\\anaconda3\\Lib\\site-packages\\_plotly_utils\\basevalidators.py:106: FutureWarning:\n",
      "\n",
      "The behavior of DatetimeProperties.to_pydatetime is deprecated, in a future version this will return a Series containing python datetime objects instead of an ndarray. To retain the old behavior, call `np.array` on the result\n",
      "\n"
     ]
    }
   ],
   "source": [
    "app = Dash(__name__, external_stylesheets=[dbc.themes.BOOTSTRAP])\n",
    "\n",
    "ddown1 = dcc.Dropdown(\n",
    "        id='unidad-dropdown',\n",
    "        options=[{'label': i, 'value': i} for i in tlvia1['#Unidad'].unique()],\n",
    "        value=tlvia1['#Unidad'].unique()[0])\n",
    "\n",
    "graph2 = dcc.Graph(id='line-chart')\n",
    "\n",
    "app.layout = html.Div([ddown1, graph2])\n",
    "\n",
    "@app.callback(\n",
    "    Output('line-chart', 'figure'),\n",
    "    [Input('unidad-dropdown', 'value')]\n",
    ")\n",
    "def update_line_chart(unidad):\n",
    "    df_filtered = tlvia1[tlvia1['#Unidad'] == unidad]\n",
    "    fig = px.bar(df_filtered, x='Fecha', y='Importe', title='Pagos de casetas por día')\n",
    "    return fig\n",
    "\n",
    "if __name__ == '__main__':\n",
    "    app.run_server(debug=True)"
   ]
  },
  {
   "cell_type": "markdown",
   "id": "87a04df1",
   "metadata": {},
   "source": [
    "## Compilado no. 1"
   ]
  },
  {
   "cell_type": "code",
   "execution_count": 6,
   "id": "7944ef97",
   "metadata": {},
   "outputs": [],
   "source": [
    "#Generamos variables para las tajetas de televia y casetas pagadas  (TDR)\n",
    "\n",
    "#Contavilizamos el numero de filas del dataset tlvia\n",
    "caspag = tlvia.Entrada.count()\n",
    "\n",
    "#Sumamos el importe de las casetas pagadas (TDR)\n",
    "casimpTDR = casetas['Costo Caseta'].sum()\n",
    "\n",
    "#Sumamos el importe de las casetas pagadas (Televia)\n",
    "casimpTV = tlvia['Importe'].sum()\n",
    "\n",
    "# Define color palette\n",
    "colors = {\n",
    "    'color1': '#023059',\n",
    "    'color2': '#023859',\n",
    "    'color3': '#023859',\n",
    "    'color4': '#F2AE30',\n",
    "    'color5': '#0D0D0D',\n",
    "    'color6': '#F2F2F2'}\n"
   ]
  },
  {
   "cell_type": "code",
   "execution_count": 54,
   "id": "dc56fbb4",
   "metadata": {},
   "outputs": [
    {
     "data": {
      "text/html": [
       "\n",
       "        <iframe\n",
       "            width=\"100%\"\n",
       "            height=\"650\"\n",
       "            src=\"http://127.0.0.1:8004/\"\n",
       "            frameborder=\"0\"\n",
       "            allowfullscreen\n",
       "            \n",
       "        ></iframe>\n",
       "        "
      ],
      "text/plain": [
       "<IPython.lib.display.IFrame at 0x1d7b3596790>"
      ]
     },
     "metadata": {},
     "output_type": "display_data"
    },
    {
     "name": "stderr",
     "output_type": "stream",
     "text": [
      "c:\\Users\\gpcor\\anaconda3\\Lib\\site-packages\\_plotly_utils\\basevalidators.py:106: FutureWarning:\n",
      "\n",
      "The behavior of DatetimeProperties.to_pydatetime is deprecated, in a future version this will return a Series containing python datetime objects instead of an ndarray. To retain the old behavior, call `np.array` on the result\n",
      "\n",
      "c:\\Users\\gpcor\\anaconda3\\Lib\\site-packages\\_plotly_utils\\basevalidators.py:106: FutureWarning:\n",
      "\n",
      "The behavior of DatetimeProperties.to_pydatetime is deprecated, in a future version this will return a Series containing python datetime objects instead of an ndarray. To retain the old behavior, call `np.array` on the result\n",
      "\n",
      "c:\\Users\\gpcor\\anaconda3\\Lib\\site-packages\\_plotly_utils\\basevalidators.py:106: FutureWarning:\n",
      "\n",
      "The behavior of DatetimeProperties.to_pydatetime is deprecated, in a future version this will return a Series containing python datetime objects instead of an ndarray. To retain the old behavior, call `np.array` on the result\n",
      "\n",
      "c:\\Users\\gpcor\\anaconda3\\Lib\\site-packages\\_plotly_utils\\basevalidators.py:106: FutureWarning:\n",
      "\n",
      "The behavior of DatetimeProperties.to_pydatetime is deprecated, in a future version this will return a Series containing python datetime objects instead of an ndarray. To retain the old behavior, call `np.array` on the result\n",
      "\n"
     ]
    }
   ],
   "source": [
    "# Set up Dash app\n",
    "app = Dash(__name__, external_stylesheets=[dbc.themes.BOOTSTRAP])\n",
    "\n",
    "img = html.Img(src=app.get_asset_url('LOGO-TDR-550-pixeles.png'))\n",
    "\n",
    "tarjetas = dbc.Row([\n",
    "        dbc.Col([\n",
    "            dbc.Card([\n",
    "                dbc.CardBody([\n",
    "                    html.H4(\" # Casetas Pagadas (Televia)\", className=\"card-title\"),\n",
    "                    html.H2(f\"{caspag}\",\n",
    "                            className=\"card-text\"),\n",
    "                ])\n",
    "            ])\n",
    "        ]),\n",
    "\n",
    "        dbc.Col([\n",
    "            dbc.Card([\n",
    "                dbc.CardBody([\n",
    "                    html.H4(\"Importe Caseta Pagadas (TDR)\", className=\"card-title\"),\n",
    "                    html.H2(f\"${casimpTDR:,.2f}\",\n",
    "                            className=\"card-text\"),\n",
    "                ])\n",
    "            ])\n",
    "        ]),\n",
    "        dbc.Col([\n",
    "            dbc.Card([\n",
    "                dbc.CardBody([\n",
    "                    html.H4(\"Importe Caseta Pagadas (Televia)\", className=\"card-title\"),\n",
    "                    html.H2(f\"${casimpTV:,.2f}\",\n",
    "                            className=\"card-text\"),\n",
    "                ])\n",
    "            ])\n",
    "        ])\n",
    "    ])\n",
    "\n",
    "# Set up the page layout\n",
    "app.layout = html.Div(style={\n",
    "        'backgroundColor': colors['color6'],\n",
    "        'height': '100vh'},\n",
    "    children=[html.Div(\n",
    "            style={\n",
    "                'backgroundColor': colors['color2'],\n",
    "                'padding': '5px',\n",
    "                'textAlign': 'center'},\n",
    "            children=[html.H2(\n",
    "                    children='TDR',\n",
    "                    style={'color': 'white'})]),tarjetas, ddown, graph0, graph1, ddown1, graph2])\n",
    "\n",
    "@app.callback(\n",
    "    Output('Barras', 'figure'),\n",
    "    Input('mydropdown', 'value'))\n",
    "\n",
    "def bar_chart(spending):\n",
    "    fig = px.bar(\n",
    "        diff2,\n",
    "        x=diff2.index,\n",
    "        y=spending,\n",
    "        barmode=\"group\",\n",
    "        title=\"Diferencia en casetas por unidad\")\n",
    "    return fig\n",
    "\n",
    "@app.callback(\n",
    "    Output('line-chart', 'figure'),\n",
    "    [Input('unidad-dropdown', 'value')])\n",
    "\n",
    "def update_line_chart(unidad):\n",
    "    df_filtered = tlvia1[tlvia1['#Unidad'] == unidad]\n",
    "    fig = px.bar(df_filtered, x='Fecha', y='Importe', title='Pagos de casetas por día')\n",
    "    return fig\n",
    "\n",
    "if __name__ == '__main__':\n",
    "    app.run_server(debug=True, port='8004')"
   ]
  },
  {
   "cell_type": "markdown",
   "id": "d7b766d2",
   "metadata": {},
   "source": [
    "## Elementos interactivos | parte 2"
   ]
  },
  {
   "cell_type": "code",
   "execution_count": 25,
   "id": "24ab3a32",
   "metadata": {},
   "outputs": [
    {
     "data": {
      "text/html": [
       "\n",
       "        <iframe\n",
       "            width=\"100%\"\n",
       "            height=\"650\"\n",
       "            src=\"http://127.0.0.1:8050/\"\n",
       "            frameborder=\"0\"\n",
       "            allowfullscreen\n",
       "            \n",
       "        ></iframe>\n",
       "        "
      ],
      "text/plain": [
       "<IPython.lib.display.IFrame at 0x1d7abb740d0>"
      ]
     },
     "metadata": {},
     "output_type": "display_data"
    }
   ],
   "source": [
    "import dash\n",
    "import dash_html_components as html\n",
    "\n",
    "app = dash.Dash(__name__)\n",
    "\n",
    "img1 = 'logotdr.png'\n",
    "\n",
    "app.layout = html.Div(\n",
    "    children=[\n",
    "        html.Div(\n",
    "            children=[\n",
    "                html.Img(\n",
    "                    src=img1,\n",
    "                    style={\n",
    "                        'height': 'auto',\n",
    "                        'width': 'auto',\n",
    "                        'maxHeight': '100%',\n",
    "                        'maxWidth': '100%'\n",
    "                    }\n",
    "                )\n",
    "            ],\n",
    "            style={\n",
    "                'backgroundColor': 'blue',\n",
    "                'height': '200px',\n",
    "                'width': '200px',\n",
    "                'display': 'flex',\n",
    "                'alignItems': 'center',\n",
    "                'justifyContent': 'center'\n",
    "            }\n",
    "        )\n",
    "    ]\n",
    ")\n",
    "\n",
    "if __name__ == '__main__':\n",
    "    app.run_server(debug=True)\n"
   ]
  }
 ],
 "metadata": {
  "kernelspec": {
   "display_name": "Python 3 (ipykernel)",
   "language": "python",
   "name": "python3"
  },
  "language_info": {
   "codemirror_mode": {
    "name": "ipython",
    "version": 3
   },
   "file_extension": ".py",
   "mimetype": "text/x-python",
   "name": "python",
   "nbconvert_exporter": "python",
   "pygments_lexer": "ipython3",
   "version": "3.11.7"
  }
 },
 "nbformat": 4,
 "nbformat_minor": 5
}
