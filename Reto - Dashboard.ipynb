{
 "cells": [
  {
   "cell_type": "code",
   "execution_count": 1,
   "id": "f26e6a08-f71b-4ad5-aade-f5b6bf1a1cb0",
   "metadata": {},
   "outputs": [],
   "source": [
    "from dash import Dash, html, dcc, Input, Output  # pip install dash\n",
    "import dash_bootstrap_components as dbc\n",
    "import pandas as pd\n",
    "import numpy as np\n",
    "\n",
    "import altair as alt                        # pip install altair\n",
    "\n",
    "import matplotlib.pyplot as plt             # pip install matplotlib\n",
    "import mpld3                                # pip install mpld3\n",
    "\n",
    "from bokeh.plotting import figure           # pip install Bokeh\n",
    "from bokeh.resources import CDN\n",
    "from bokeh.embed import file_html\n",
    "from bokeh.models import ColumnDataSource\n",
    "\n",
    "# bring data into app\n",
    "casetas = pd.read_excel('Casetas TDR.xlsx')\n",
    "tlvia = pd.read_excel('Compilado televía 2.xlsx')\n",
    "# print(cars.columns)\n",
    "\n",
    "tlcount = tlvia[['TAG', 'Importe']].groupby('TAG').count()\n",
    "cascount = casetas[['TAG', 'Costo Caseta']].groupby('TAG').count()\n",
    "tlsum = tlvia[['TAG', 'Importe']].groupby('TAG').sum()\n",
    "cassum = casetas[['TAG', 'Costo Caseta']].groupby('TAG').sum()\n",
    "diffcount =  pd.DataFrame(tlcount['Importe'] - cascount['Costo Caseta'])\n",
    "diffsum = pd.DataFrame(tlsum['Importe'] - cassum['Costo Caseta'])\n",
    "diffsum = diffsum[diffsum != 0]\n",
    "diffcount = diffcount[diffcount != 0]\n",
    "diff = pd.merge(diffcount, diffsum, left_index=True, right_index=True)\n",
    "diff.rename(columns = {'0_x':'Dif. Casetas pagadas', '0_y':'Dif. Total pagado'}, inplace = True)\n",
    "tlvia.set_index('TAG', inplace=True)\n",
    "diff2 = pd.merge(diff, tlvia, left_index=True, right_index=True)\n",
    "diff2 = diff2[['#Unidad', 'Dif. Casetas pagadas', 'Dif. Total pagado']].dropna()\n",
    "diff2.drop_duplicates(inplace=True)\n",
    "diff2['#Unidad'] = diff2['#Unidad'].astype(str)\n",
    "diff2.set_index('#Unidad', inplace=True)"
   ]
  },
  {
   "cell_type": "code",
   "execution_count": 4,
   "id": "1c57dc74-bece-4818-a0ce-3d406e45c5f9",
   "metadata": {},
   "outputs": [
    {
     "name": "stdout",
     "output_type": "stream",
     "text": [
      "Dash is running on http://127.0.0.1:8004/\n",
      "\n",
      " * Serving Flask app '__main__'\n",
      " * Debug mode: on\n"
     ]
    },
    {
     "ename": "SystemExit",
     "evalue": "1",
     "output_type": "error",
     "traceback": [
      "An exception has occurred, use %tb to see the full traceback.\n",
      "\u001b[1;31mSystemExit\u001b[0m\u001b[1;31m:\u001b[0m 1\n"
     ]
    }
   ],
   "source": [
    "import plotly.express as px\n",
    "\n",
    "# Set up Dash app\n",
    "app = Dash(__name__, external_stylesheets=[dbc.themes.BOOTSTRAP])\n",
    "\n",
    "# Funciones y cosas\n",
    "ddown = dcc.Dropdown(id='mydropdown',\n",
    "        value=['Dif. Total pagado'],\n",
    "        options=[{'label': i, 'value': i} for i in ['Dif. Casetas pagadas', 'Dif. Total pagado']])\n",
    "\n",
    "graph0 = dcc.Graph(id=\"Barras\")  \n",
    "\n",
    "# Set up the page layout\n",
    "app.layout = html.Div([ddown, graph0])\n",
    "\n",
    "@app.callback(\n",
    "    Output('Barras', 'figure'),\n",
    "    Input('mydropdown', 'value'))\n",
    "\n",
    "def bar_chart(spending):\n",
    "    fig = px.bar(\n",
    "        diff2,\n",
    "        x=diff2.index,\n",
    "        y=spending,\n",
    "        barmode=\"group\",\n",
    "        title=\"Diferencia en casetas por unidad\",\n",
    "    )\n",
    "    return fig\n",
    "\n",
    "if __name__ == '__main__':\n",
    "    app.run_server(debug=True, port='8004')\n"
   ]
  },
  {
   "cell_type": "code",
   "execution_count": null,
   "id": "93f23cad",
   "metadata": {},
   "outputs": [
    {
     "data": {
      "text/html": [
       "\n",
       "        <iframe\n",
       "            width=\"100%\"\n",
       "            height=\"650\"\n",
       "            src=\"http://127.0.0.1:8005/\"\n",
       "            frameborder=\"0\"\n",
       "            allowfullscreen\n",
       "            \n",
       "        ></iframe>\n",
       "        "
      ],
      "text/plain": [
       "<IPython.lib.display.IFrame at 0x189266beb90>"
      ]
     },
     "metadata": {},
     "output_type": "display_data"
    }
   ],
   "source": [
    "# Set up Dash app\n",
    "app = Dash(__name__, external_stylesheets=[dbc.themes.BOOTSTRAP])\n",
    "\n",
    "graph1 = dcc.Graph(figure = px.pie(diff2, values='Dif. Total pagado', names=diff2.index, title='Distribucion de diferencias en total pagado en Televia vs contabilidad - Enero'))\n",
    "\n",
    "# Set up the page layout\n",
    "app.layout = html.Div([graph1]) \n",
    "\n",
    "if __name__ == '__main__':\n",
    "    app.run_server(debug=True, port='8050')"
   ]
  },
  {
   "cell_type": "markdown",
   "id": "87a04df1",
   "metadata": {},
   "source": [
    "## Compilado no. 1"
   ]
  },
  {
   "cell_type": "code",
   "execution_count": null,
   "id": "7944ef97",
   "metadata": {},
   "outputs": [],
   "source": [
    "#Generamos variables para las tajetas de televia y casetas pagadas  (TDR)\n",
    "\n",
    "#Contavilizamos el numero de filas del dataset tlvia\n",
    "caspag = tlvia.Entrada.count()\n",
    "\n",
    "#Sumamos el importe de las casetas pagadas (TDR)\n",
    "casimpTDR = casetas['Costo Caseta'].sum()\n",
    "\n",
    "#Sumamos el importe de las casetas pagadas (Televia)\n",
    "casimpTV = tlvia['Importe'].sum()\n",
    "\n",
    "# Define color palette\n",
    "colors = {\n",
    "    'color1': '#023059',\n",
    "    'color2': '#023859',\n",
    "    'color3': '#023859',\n",
    "    'color4': '#F2AE30',\n",
    "    'color5': '#0D0D0D',\n",
    "    'color6': '#F2F2F2'}\n"
   ]
  },
  {
   "cell_type": "code",
   "execution_count": null,
   "id": "dc56fbb4",
   "metadata": {},
   "outputs": [
    {
     "data": {
      "text/html": [
       "\n",
       "        <iframe\n",
       "            width=\"100%\"\n",
       "            height=\"650\"\n",
       "            src=\"http://127.0.0.1:8004/\"\n",
       "            frameborder=\"0\"\n",
       "            allowfullscreen\n",
       "            \n",
       "        ></iframe>\n",
       "        "
      ],
      "text/plain": [
       "<IPython.lib.display.IFrame at 0x18928be0f50>"
      ]
     },
     "metadata": {},
     "output_type": "display_data"
    }
   ],
   "source": [
    "# Set up Dash app\n",
    "app = Dash(__name__, external_stylesheets=[dbc.themes.BOOTSTRAP])\n",
    "\n",
    "tarjetas = dbc.Row([\n",
    "        dbc.Col([\n",
    "            dbc.Card([\n",
    "                dbc.CardBody([\n",
    "                    html.H4(\" # Casetas Pagadas (Televia)\", className=\"card-title\"),\n",
    "                    html.H2(f\"{caspag}\",\n",
    "                            className=\"card-text\"),\n",
    "                ])\n",
    "            ])\n",
    "        ]),\n",
    "\n",
    "        dbc.Col([\n",
    "            dbc.Card([\n",
    "                dbc.CardBody([\n",
    "                    html.H4(\"Importe Caseta Pagadas (TDR)\", className=\"card-title\"),\n",
    "                    html.H2(f\"${casimpTDR:,.2f}\",\n",
    "                            className=\"card-text\"),\n",
    "                ])\n",
    "            ])\n",
    "        ]),\n",
    "        dbc.Col([\n",
    "            dbc.Card([\n",
    "                dbc.CardBody([\n",
    "                    html.H4(\"Importe Caseta Pagadas (Televia)\", className=\"card-title\"),\n",
    "                    html.H2(f\"${casimpTV:,.2f}\",\n",
    "                            className=\"card-text\"),\n",
    "                ])\n",
    "            ])\n",
    "        ])\n",
    "    ])\n",
    "\n",
    "# Set up the page layout\n",
    "app.layout = html.Div(style={\n",
    "        'backgroundColor': colors['color6'],\n",
    "        'height': '100vh'},\n",
    "    children=[html.Div(\n",
    "            style={\n",
    "                'backgroundColor': colors['color2'],\n",
    "                'padding': '5px',\n",
    "                'textAlign': 'center'},\n",
    "            children=[html.H2(\n",
    "                    children='TDR',\n",
    "                    style={'color': 'white'})]),tarjetas, ddown, graph0, graph1])\n",
    "\n",
    "@app.callback(\n",
    "    Output('Barras', 'figure'),\n",
    "    Input('mydropdown', 'value'))\n",
    "\n",
    "def bar_chart(spending):\n",
    "    fig = px.bar(\n",
    "        diff2,\n",
    "        x=diff2.index,\n",
    "        y=spending,\n",
    "        barmode=\"group\",\n",
    "        title=\"Diferencia en casetas por unidad\",\n",
    "    )\n",
    "    return fig\n",
    "\n",
    "if __name__ == '__main__':\n",
    "    app.run_server(debug=True, port='8004')"
   ]
  }
 ],
 "metadata": {
  "kernelspec": {
   "display_name": "Python 3 (ipykernel)",
   "language": "python",
   "name": "python3"
  },
  "language_info": {
   "codemirror_mode": {
    "name": "ipython",
    "version": 3
   },
   "file_extension": ".py",
   "mimetype": "text/x-python",
   "name": "python",
   "nbconvert_exporter": "python",
   "pygments_lexer": "ipython3",
   "version": "3.11.7"
  }
 },
 "nbformat": 4,
 "nbformat_minor": 5
}
