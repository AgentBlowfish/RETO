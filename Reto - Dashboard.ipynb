{
 "cells": [
  {
   "cell_type": "code",
   "execution_count": 5,
   "id": "f26e6a08-f71b-4ad5-aade-f5b6bf1a1cb0",
   "metadata": {},
   "outputs": [],
   "source": [
    "from dash import Dash, html, dcc, Input, Output  # pip install dash\n",
    "import dash_bootstrap_components as dbc\n",
    "#from vega_datasets import data             # pip install vega-datasets\n",
    "import pandas as pd\n",
    "import numpy as np\n",
    "\n",
    "import altair as alt                        # pip install altair\n",
    "\n",
    "import matplotlib.pyplot as plt             # pip install matplotlib\n",
    "import mpld3                                # pip install mpld3\n",
    "\n",
    "from bokeh.plotting import figure           # pip install Bokeh\n",
    "from bokeh.resources import CDN\n",
    "from bokeh.embed import file_html\n",
    "from bokeh.models import ColumnDataSource\n",
    "\n",
    "# bring data into app\n",
    "casetas = pd.read_excel('Casetas TDR.xlsx')\n",
    "tlvia = pd.read_excel('Compilado televía 2.xlsx')\n",
    "# print(cars.columns)\n",
    "\n",
    "tlcount = tlvia[['TAG', 'Importe']].groupby('TAG').count()\n",
    "cascount = casetas[['TAG', 'Costo Caseta']].groupby('TAG').count()\n",
    "tlsum = tlvia[['TAG', 'Importe']].groupby('TAG').sum()\n",
    "cassum = casetas[['TAG', 'Costo Caseta']].groupby('TAG').sum()\n",
    "diffcount =  pd.DataFrame(tlcount['Importe'] - cascount['Costo Caseta'])\n",
    "diffsum = pd.DataFrame(tlsum['Importe'] - cassum['Costo Caseta'])\n",
    "diffsum = diffsum[diffsum != 0]\n",
    "diffcount = diffcount[diffcount != 0]\n",
    "diff = pd.merge(diffcount, diffsum, left_index=True, right_index=True)\n",
    "diff.rename(columns = {'0_x':'Dif. Casetas pagadas', '0_y':'Dif. Total pagado'}, inplace = True)\n",
    "tlvia.set_index('TAG', inplace=True)\n",
    "diff2 = pd.merge(diff, tlvia, left_index=True, right_index=True)\n",
    "diff2 = diff2[['#Unidad', 'Dif. Casetas pagadas', 'Dif. Total pagado']].dropna()\n",
    "diff2.drop_duplicates(inplace=True)\n",
    "diff2['#Unidad'] = diff2['#Unidad'].astype(str)\n",
    "diff2.set_index('#Unidad', inplace=True)"
   ]
  },
  {
   "cell_type": "code",
   "execution_count": 6,
   "id": "1c57dc74-bece-4818-a0ce-3d406e45c5f9",
   "metadata": {},
   "outputs": [
    {
     "data": {
      "text/html": [
       "\n",
       "        <iframe\n",
       "            width=\"100%\"\n",
       "            height=\"650\"\n",
       "            src=\"http://127.0.0.1:8004/\"\n",
       "            frameborder=\"0\"\n",
       "            allowfullscreen\n",
       "            \n",
       "        ></iframe>\n",
       "        "
      ],
      "text/plain": [
       "<IPython.lib.display.IFrame at 0x1f7a42bd9d0>"
      ]
     },
     "metadata": {},
     "output_type": "display_data"
    }
   ],
   "source": [
    "import plotly.express as px\n",
    "\n",
    "# Set up Dash app\n",
    "app = Dash(__name__, external_stylesheets=[dbc.themes.BOOTSTRAP])\n",
    "\n",
    "# Set up the page layout\n",
    "app.layout = html.Div([\n",
    "    dcc.Dropdown(id='mydropdown',\n",
    "        value=['Dif. Total pagado'],\n",
    "        options=[{'label': i, 'value': i} for i in ['Dif. Casetas pagadas', 'Dif. Total pagado']]\n",
    "    ),\n",
    "    dcc.Graph(id=\"Barras\")    \n",
    "])\n",
    "\n",
    "@app.callback(\n",
    "    Output('Barras', 'figure'),\n",
    "    Input('mydropdown', 'value'))\n",
    "\n",
    "def bar_chart(spending):\n",
    "    fig = px.bar(\n",
    "        diff2,\n",
    "        x=diff2.index,\n",
    "        y=spending,\n",
    "        barmode=\"group\",\n",
    "        title=\"Diferencia en casetas por unidad\",\n",
    "    )\n",
    "    return fig\n",
    "\n",
    "if __name__ == '__main__':\n",
    "    app.run_server(debug=True, port='8004')\n"
   ]
  },
  {
   "cell_type": "code",
   "execution_count": null,
   "id": "016f0650-d816-4648-88c9-a0ca8aa347bb",
   "metadata": {},
   "outputs": [
    {
     "data": {
      "text/plain": [
       "Dif. Casetas pagadas    float64\n",
       "Dif. Total pagado       float64\n",
       "dtype: object"
      ]
     },
     "execution_count": 16,
     "metadata": {},
     "output_type": "execute_result"
    },
    {
     "name": "stdout",
     "output_type": "stream",
     "text": [
      "---------------------------------------------------------------------------\n",
      "NameError                                 Traceback (most recent call last)\n",
      "Cell In[15], line 18, in bar_chart(spending='Dif. Total pagado')\n",
      "     13 @app.callback(\n",
      "     14     Output('Barras', 'figura'),\n",
      "     15     Input('mydropdown', 'value'))\n",
      "     16 \n",
      "     17 def bar_chart(spending):\n",
      "---> 18     fig = px.bar(\n",
      "        diff2 =          Dif. Casetas pagadas  Dif. Total pagado\n",
      "#Unidad                                         \n",
      "1826                      1.0              309.0\n",
      "1817                      2.0              461.0\n",
      "1819                      1.0              309.0\n",
      "1736                      2.0              461.0\n",
      "1816                      2.0              556.0\n",
      "1814                      1.0              228.0\n",
      "1820                      2.0              490.0\n",
      "1798                      1.0              309.0\n",
      "1738                     15.0             2186.0\n",
      "1818                      1.0              312.0\n",
      "1721                      3.0              713.0\n",
      "1813                      3.0              852.0\n",
      "1746                      6.0              658.0\n",
      "     19         diff2,\n",
      "     20         x=\"#Unidad\",\n",
      "     21         y=['Dif. Casetas pagadas', 'Dif. Total pagado'],\n",
      "     22         barmode=\"group\",\n",
      "     23         title=\"1992 vs 2019 Test Scores\",\n",
      "     24     )\n",
      "     25     return fig\n",
      "\n",
      "NameError: name 'px' is not defined\n",
      "\n"
     ]
    }
   ],
   "source": [
    "diff2.dtypes"
   ]
  }
 ],
 "metadata": {
  "kernelspec": {
   "display_name": "Python 3 (ipykernel)",
   "language": "python",
   "name": "python3"
  },
  "language_info": {
   "codemirror_mode": {
    "name": "ipython",
    "version": 3
   },
   "file_extension": ".py",
   "mimetype": "text/x-python",
   "name": "python",
   "nbconvert_exporter": "python",
   "pygments_lexer": "ipython3",
   "version": "3.11.7"
  }
 },
 "nbformat": 4,
 "nbformat_minor": 5
}
