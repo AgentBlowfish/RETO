{
 "cells": [
  {
   "cell_type": "code",
   "execution_count": 2,
   "id": "71e0e134-0d51-4b73-85f3-ec23120fb6df",
   "metadata": {},
   "outputs": [
    {
     "name": "stdout",
     "output_type": "stream",
     "text": [
      "Collecting dash-bootstrap-components\n",
      "  Downloading dash_bootstrap_components-1.6.0-py3-none-any.whl.metadata (5.2 kB)\n",
      "Requirement already satisfied: dash>=2.0.0 in c:\\users\\soluc\\anaconda3\\lib\\site-packages (from dash-bootstrap-components) (2.14.2)\n",
      "Requirement already satisfied: Flask<3.1,>=1.0.4 in c:\\users\\soluc\\anaconda3\\lib\\site-packages (from dash>=2.0.0->dash-bootstrap-components) (2.2.5)\n",
      "Requirement already satisfied: Werkzeug<3.1 in c:\\users\\soluc\\anaconda3\\lib\\site-packages (from dash>=2.0.0->dash-bootstrap-components) (2.2.3)\n",
      "Requirement already satisfied: plotly>=5.0.0 in c:\\users\\soluc\\anaconda3\\lib\\site-packages (from dash>=2.0.0->dash-bootstrap-components) (5.19.0)\n",
      "Requirement already satisfied: typing-extensions>=4.1.1 in c:\\users\\soluc\\anaconda3\\lib\\site-packages (from dash>=2.0.0->dash-bootstrap-components) (4.9.0)\n",
      "Requirement already satisfied: requests in c:\\users\\soluc\\anaconda3\\lib\\site-packages (from dash>=2.0.0->dash-bootstrap-components) (2.31.0)\n",
      "Requirement already satisfied: retrying in c:\\users\\soluc\\anaconda3\\lib\\site-packages (from dash>=2.0.0->dash-bootstrap-components) (1.3.3)\n",
      "Requirement already satisfied: ansi2html in c:\\users\\soluc\\anaconda3\\lib\\site-packages (from dash>=2.0.0->dash-bootstrap-components) (1.9.1)\n",
      "Requirement already satisfied: nest-asyncio in c:\\users\\soluc\\anaconda3\\lib\\site-packages (from dash>=2.0.0->dash-bootstrap-components) (1.6.0)\n",
      "Requirement already satisfied: setuptools in c:\\users\\soluc\\anaconda3\\lib\\site-packages (from dash>=2.0.0->dash-bootstrap-components) (68.2.2)\n",
      "Requirement already satisfied: importlib-metadata in c:\\users\\soluc\\anaconda3\\lib\\site-packages (from dash>=2.0.0->dash-bootstrap-components) (7.0.1)\n",
      "Requirement already satisfied: Jinja2>=3.0 in c:\\users\\soluc\\anaconda3\\lib\\site-packages (from Flask<3.1,>=1.0.4->dash>=2.0.0->dash-bootstrap-components) (3.1.3)\n",
      "Requirement already satisfied: itsdangerous>=2.0 in c:\\users\\soluc\\anaconda3\\lib\\site-packages (from Flask<3.1,>=1.0.4->dash>=2.0.0->dash-bootstrap-components) (2.0.1)\n",
      "Requirement already satisfied: click>=8.0 in c:\\users\\soluc\\anaconda3\\lib\\site-packages (from Flask<3.1,>=1.0.4->dash>=2.0.0->dash-bootstrap-components) (8.1.7)\n",
      "Requirement already satisfied: tenacity>=6.2.0 in c:\\users\\soluc\\anaconda3\\lib\\site-packages (from plotly>=5.0.0->dash>=2.0.0->dash-bootstrap-components) (8.2.2)\n",
      "Requirement already satisfied: packaging in c:\\users\\soluc\\anaconda3\\lib\\site-packages (from plotly>=5.0.0->dash>=2.0.0->dash-bootstrap-components) (23.1)\n",
      "Requirement already satisfied: MarkupSafe>=2.1.1 in c:\\users\\soluc\\anaconda3\\lib\\site-packages (from Werkzeug<3.1->dash>=2.0.0->dash-bootstrap-components) (2.1.3)\n",
      "Requirement already satisfied: zipp>=0.5 in c:\\users\\soluc\\anaconda3\\lib\\site-packages (from importlib-metadata->dash>=2.0.0->dash-bootstrap-components) (3.17.0)\n",
      "Requirement already satisfied: charset-normalizer<4,>=2 in c:\\users\\soluc\\anaconda3\\lib\\site-packages (from requests->dash>=2.0.0->dash-bootstrap-components) (2.0.4)\n",
      "Requirement already satisfied: idna<4,>=2.5 in c:\\users\\soluc\\anaconda3\\lib\\site-packages (from requests->dash>=2.0.0->dash-bootstrap-components) (3.4)\n",
      "Requirement already satisfied: urllib3<3,>=1.21.1 in c:\\users\\soluc\\anaconda3\\lib\\site-packages (from requests->dash>=2.0.0->dash-bootstrap-components) (2.0.7)\n",
      "Requirement already satisfied: certifi>=2017.4.17 in c:\\users\\soluc\\anaconda3\\lib\\site-packages (from requests->dash>=2.0.0->dash-bootstrap-components) (2024.2.2)\n",
      "Requirement already satisfied: six>=1.7.0 in c:\\users\\soluc\\anaconda3\\lib\\site-packages (from retrying->dash>=2.0.0->dash-bootstrap-components) (1.16.0)\n",
      "Requirement already satisfied: colorama in c:\\users\\soluc\\anaconda3\\lib\\site-packages (from click>=8.0->Flask<3.1,>=1.0.4->dash>=2.0.0->dash-bootstrap-components) (0.4.6)\n",
      "Downloading dash_bootstrap_components-1.6.0-py3-none-any.whl (222 kB)\n",
      "   ---------------------------------------- 0.0/222.5 kB ? eta -:--:--\n",
      "   --- ----------------------------------- 20.5/222.5 kB 640.0 kB/s eta 0:00:01\n",
      "   ------- ------------------------------- 41.0/222.5 kB 495.5 kB/s eta 0:00:01\n",
      "   ------------------------- -------------- 143.4/222.5 kB 1.1 MB/s eta 0:00:01\n",
      "   -------------------------------------- - 215.0/222.5 kB 1.3 MB/s eta 0:00:01\n",
      "   ---------------------------------------- 222.5/222.5 kB 1.1 MB/s eta 0:00:00\n",
      "Installing collected packages: dash-bootstrap-components\n",
      "Successfully installed dash-bootstrap-components-1.6.0\n",
      "Note: you may need to restart the kernel to use updated packages.\n"
     ]
    }
   ],
   "source": [
    "pip install dash-bootstrap-components"
   ]
  },
  {
   "cell_type": "code",
   "execution_count": 1,
   "id": "064136dd-1696-4888-a448-035369a4656e",
   "metadata": {},
   "outputs": [
    {
     "name": "stdout",
     "output_type": "stream",
     "text": [
      "Dash is running on http://127.0.0.1:8051/\n",
      "\n",
      " * Serving Flask app '__main__'\n",
      " * Debug mode: on\n"
     ]
    },
    {
     "ename": "SystemExit",
     "evalue": "1",
     "output_type": "error",
     "traceback": [
      "An exception has occurred, use %tb to see the full traceback.\n",
      "\u001b[1;31mSystemExit\u001b[0m\u001b[1;31m:\u001b[0m 1\n"
     ]
    },
    {
     "name": "stderr",
     "output_type": "stream",
     "text": [
      "c:\\Users\\tajin\\anaconda3\\Lib\\site-packages\\IPython\\core\\interactiveshell.py:3561: UserWarning: To exit: use 'exit', 'quit', or Ctrl-D.\n",
      "  warn(\"To exit: use 'exit', 'quit', or Ctrl-D.\", stacklevel=1)\n"
     ]
    }
   ],
   "source": [
    "import dash\n",
    "from dash import html, dcc\n",
    "\n",
    "# Initialize the Dash app\n",
    "app = dash.Dash(__name__)\n",
    "\n",
    "# Define color palette\n",
    "colors = {\n",
    "    'color1': '#023059',\n",
    "    'color2': '#023859',\n",
    "    'color3': '#023859',\n",
    "    'color4': '#F2AE30',\n",
    "    'color5': '#0D0D0D'\n",
    "}\n",
    "\n",
    "# Define the layout of the app\n",
    "app.layout = html.Div(style={'backgroundColor': colors['color1'], 'height': '100vh'}, children=[\n",
    "    html.H1(\n",
    "        children='Soluciones Logísticas',\n",
    "        style={\n",
    "            'textAlign': 'center',\n",
    "            'color': colors['color4'],\n",
    "            'paddingTop': '50px'\n",
    "        }\n",
    "    ),\n",
    "    html.Div(children='Ejemplo de página web con Dash y la paleta de colores especificada.', style={\n",
    "        'textAlign': 'center',\n",
    "        'color': colors['color5']\n",
    "    }),\n",
    "    html.Div(style={'display': 'flex', 'justifyContent': 'center', 'marginTop': '50px'}, children=[\n",
    "        html.Div(style={'backgroundColor': colors['color1'], 'width': '100px', 'height': '100px', 'margin': '10px'}),\n",
    "        html.Div(style={'backgroundColor': colors['color2'], 'width': '100px', 'height': '100px', 'margin': '10px'}),\n",
    "        html.Div(style={'backgroundColor': colors['color3'], 'width': '100px', 'height': '100px', 'margin': '10px'}),\n",
    "        html.Div(style={'backgroundColor': colors['color4'], 'width': '100px', 'height': '100px', 'margin': '10px'}),\n",
    "        html.Div(style={'backgroundColor': colors['color5'], 'width': '100px', 'height': '100px', 'margin': '10px'}),\n",
    "    ]),\n",
    "])\n",
    "\n",
    "# Run the app\n",
    "if __name__ == '__main__':\n",
    "    app.run_server(debug=True, port=8051)  # Use port 8051 instead of the default 8050\n",
    "    "
   ]
  },
  {
   "cell_type": "code",
   "execution_count": 16,
   "id": "c8877434-4abc-4040-a4d8-5df755bfb8cc",
   "metadata": {},
   "outputs": [
    {
     "data": {
      "text/html": [
       "\n",
       "        <iframe\n",
       "            width=\"100%\"\n",
       "            height=\"650\"\n",
       "            src=\"http://127.0.0.1:8051/\"\n",
       "            frameborder=\"0\"\n",
       "            allowfullscreen\n",
       "            \n",
       "        ></iframe>\n",
       "        "
      ],
      "text/plain": [
       "<IPython.lib.display.IFrame at 0x1ca30904990>"
      ]
     },
     "metadata": {},
     "output_type": "display_data"
    }
   ],
   "source": [
    "import dash\n",
    "from dash import html, dcc\n",
    "\n",
    "# Initialize the Dash app\n",
    "app = dash.Dash(__name__)\n",
    "\n",
    "# Define color palette\n",
    "colors = {\n",
    "    'color1': '#023059',\n",
    "    'color2': '#023859',\n",
    "    'color3': '#023859',\n",
    "    'color4': '#F2AE30',\n",
    "    'color5': '#0D0D0D',\n",
    "    'color6': '#F2F2F2'\n",
    "}\n",
    "\n",
    "# Define the layout of the app\n",
    "app.layout = html.Div(\n",
    "    style={\n",
    "        'backgroundColor': colors['color6'],\n",
    "        'height': '100vh'\n",
    "    },\n",
    "    children=[\n",
    "        html.Div(\n",
    "            style={\n",
    "                'backgroundColor': colors['color2'],\n",
    "                'padding': '5px',\n",
    "                'textAlign': 'center'\n",
    "            },\n",
    "            children=[\n",
    "                html.H2(\n",
    "                    children='TDR',\n",
    "                    style={'color': 'white'}\n",
    "                )\n",
    "            ]\n",
    "        ),\n",
    "        \n",
    "    ]\n",
    ")\n",
    "\n",
    "# Run the app on a different port\n",
    "if __name__ == '__main__':\n",
    "    app.run_server(debug=True, port=8051)\n"
   ]
  },
  {
   "cell_type": "code",
   "execution_count": null,
   "id": "0715d14c-a99c-42e2-a2f9-bb1ab1f5be00",
   "metadata": {},
   "outputs": [],
   "source": []
  }
 ],
 "metadata": {
  "kernelspec": {
   "display_name": "Python 3 (ipykernel)",
   "language": "python",
   "name": "python3"
  },
  "language_info": {
   "codemirror_mode": {
    "name": "ipython",
    "version": 3
   },
   "file_extension": ".py",
   "mimetype": "text/x-python",
   "name": "python",
   "nbconvert_exporter": "python",
   "pygments_lexer": "ipython3",
   "version": "3.11.7"
  }
 },
 "nbformat": 4,
 "nbformat_minor": 5
}
