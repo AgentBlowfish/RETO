{
 "cells": [
  {
   "cell_type": "code",
   "execution_count": 3,
   "id": "c8877434-4abc-4040-a4d8-5df755bfb8cc",
   "metadata": {},
   "outputs": [
    {
     "data": {
      "text/html": [
       "\n",
       "        <iframe\n",
       "            width=\"100%\"\n",
       "            height=\"650\"\n",
       "            src=\"http://127.0.0.1:8055/\"\n",
       "            frameborder=\"0\"\n",
       "            allowfullscreen\n",
       "            \n",
       "        ></iframe>\n",
       "        "
      ],
      "text/plain": [
       "<IPython.lib.display.IFrame at 0x21915776e10>"
      ]
     },
     "metadata": {},
     "output_type": "display_data"
    }
   ],
   "source": [
    "import dash\n",
    "from dash import html, dcc\n",
    "\n",
    "# Initialize the Dash app\n",
    "app = dash.Dash(__name__)\n",
    "\n",
    "# Define color palette\n",
    "colors = {\n",
    "    'color1': '#023059',\n",
    "    'color2': '#023859',\n",
    "    'color3': '#023859',\n",
    "    'color4': '#F2AE30',\n",
    "    'color5': '#0D0D0D',\n",
    "    'color6': '#F2F2F2'\n",
    "}\n",
    "\n",
    "# Define the layout of the app\n",
    "app.layout = html.Div(\n",
    "    style={\n",
    "        'backgroundColor': colors['color6'],\n",
    "        'height': '100vh'\n",
    "    },\n",
    "    children=[\n",
    "        html.Div(\n",
    "            style={\n",
    "                'backgroundColor': colors['color2'],\n",
    "                'padding': '5px',\n",
    "                'textAlign': 'center'\n",
    "            },\n",
    "            children=[\n",
    "                html.H2(\n",
    "                    children='TDR',\n",
    "                    style={'color': 'white'}\n",
    "                )\n",
    "            ]\n",
    "        ),\n",
    "        \n",
    "    ]\n",
    ")\n",
    "\n",
    "# Run the app on a different port\n",
    "if __name__ == '__main__':\n",
    "    app.run_server(debug=True, port=8055)\n"
   ]
  },
  {
   "cell_type": "code",
   "execution_count": null,
   "id": "0715d14c-a99c-42e2-a2f9-bb1ab1f5be00",
   "metadata": {},
   "outputs": [],
   "source": []
  }
 ],
 "metadata": {
  "kernelspec": {
   "display_name": "Python 3 (ipykernel)",
   "language": "python",
   "name": "python3"
  },
  "language_info": {
   "codemirror_mode": {
    "name": "ipython",
    "version": 3
   },
   "file_extension": ".py",
   "mimetype": "text/x-python",
   "name": "python",
   "nbconvert_exporter": "python",
   "pygments_lexer": "ipython3",
   "version": "3.11.7"
  }
 },
 "nbformat": 4,
 "nbformat_minor": 5
}
